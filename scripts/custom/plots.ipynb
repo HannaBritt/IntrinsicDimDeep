{
 "cells": [
  {
   "cell_type": "code",
   "execution_count": null,
   "metadata": {},
   "outputs": [],
   "source": [
    "%reload_ext autoreload\n",
    "%autoreload 2\n",
    "%matplotlib inline"
   ]
  },
  {
   "cell_type": "code",
   "execution_count": null,
   "metadata": {},
   "outputs": [],
   "source": [
    "import os\n",
    "from os.path import join\n",
    "cwd = os.getcwd()\n",
    "parts = cwd.split('/scripts/custom')\n",
    "ROOT = parts[0]\n",
    "os.chdir(ROOT)\n",
    "import sys\n",
    "sys.path.insert(0, ROOT)"
   ]
  },
  {
   "cell_type": "code",
   "execution_count": null,
   "metadata": {},
   "outputs": [],
   "source": [
    "RES = join(ROOT, 'data', 'custom', 'results_provided')\n",
    "#RES = join(ROOT, 'data', 'custom', 'results') #uncomment this line if you want to check your results\n",
    "figs_folder = join(RES, 'figs')"
   ]
  },
  {
   "cell_type": "code",
   "execution_count": null,
   "metadata": {},
   "outputs": [],
   "source": [
    "if not os.path.isdir(figs_folder):\n",
    "    os.mkdir(figs_folder)"
   ]
  },
  {
   "cell_type": "code",
   "execution_count": null,
   "metadata": {},
   "outputs": [],
   "source": [
    "import pandas as pd\n",
    "import pickle\n",
    "from time import time\n",
    "import torch\n",
    "import numpy as np\n",
    "from matplotlib import pyplot as plt\n",
    "from tqdm import tqdm"
   ]
  },
  {
   "cell_type": "markdown",
   "metadata": {},
   "source": [
    "### Training history"
   ]
  },
  {
   "cell_type": "code",
   "execution_count": null,
   "metadata": {},
   "outputs": [],
   "source": [
    "file = open(join(RES, \"training_data\"), 'rb')\n",
    "T = pickle.load(file)"
   ]
  },
  {
   "cell_type": "code",
   "execution_count": null,
   "metadata": {},
   "outputs": [],
   "source": [
    "plt.figure(figsize=(10,5))\n",
    "plt.subplot(1,2,1)\n",
    "plt.plot(T['train_loss'],'-o', label='train')\n",
    "plt.plot(T['test_loss'],'-o', label='test')\n",
    "plt.legend()\n",
    "plt.title('Loss')\n",
    "plt.subplot(1,2,2)\n",
    "plt.plot(T['train_acc'],'-o', label='train')\n",
    "plt.plot(T['test_acc'],'-o', label='test')\n",
    "plt.legend()\n",
    "plt.title('Acc')"
   ]
  },
  {
   "cell_type": "code",
   "execution_count": null,
   "metadata": {},
   "outputs": [],
   "source": [
    "n_out_class=40\n",
    "layers = ['input', 'pool1', 'pool2', 'pool3', 'pool4', 'pool5', 'd1', 'd2', 'output']\n",
    "embdims = np.array([150528, 802816, 401408, 200704, 100352, 25088, 4096, 4096, n_out_class]) "
   ]
  },
  {
   "cell_type": "code",
   "execution_count": null,
   "metadata": {},
   "outputs": [],
   "source": [
    "ID = np.load(join(RES,'ID_all.npy'))"
   ]
  },
  {
   "cell_type": "code",
   "execution_count": null,
   "metadata": {},
   "outputs": [],
   "source": [
    "ms = 20\n",
    "fs = 30\n",
    "lw = 2\n",
    "\n",
    "fig = plt.figure(figsize=(10,10))\n",
    "plt.errorbar(range(len(layers)),ID[:,0],yerr=ID[:,1],fmt='-ko',linewidth=lw,\n",
    "            markersize=ms)\n",
    "\n",
    "# text of numbers\n",
    "for i in range(len(layers)):\n",
    "    plt.text(i + 0.1, ID[i,0] + 1, str(embdims[i]),fontsize=10)\n",
    "\n",
    "plt.xticks(range(len(layers)), layers, rotation='vertical',fontsize=fs )\n",
    "plt.yticks(fontsize=fs)\n",
    "plt.xlabel('layer',fontsize=fs)\n",
    "plt.ylabel('ID',fontsize=fs)"
   ]
  },
  {
   "cell_type": "code",
   "execution_count": null,
   "metadata": {},
   "outputs": [],
   "source": [
    "fs = 40\n",
    "ms = 20\n",
    "lw = 4\n",
    "off = 0.35\n",
    "\n",
    "fig = plt.figure(figsize=(10,10))\n",
    "plt.errorbar(range(5,len(layers)),ID[5:,0],yerr=ID[5:,1],\n",
    "         fmt='-ko',linewidth=lw,markersize=ms)\n",
    "\n",
    "for i in range(5,len(layers)):   \n",
    "    plt.text(i , ID[i,0] + off, str(embdims[i]), fontsize=10)\n",
    "\n",
    "plt.xticks(range(5,len(layers)), layers[5:], rotation='vertical',fontsize=fs )\n",
    "plt.yticks(fontsize=fs)"
   ]
  },
  {
   "cell_type": "markdown",
   "metadata": {},
   "source": [
    "# Block analysis"
   ]
  },
  {
   "cell_type": "code",
   "execution_count": null,
   "metadata": {},
   "outputs": [],
   "source": [
    "BA = np.load(join(RES, 'BA.npy'))\n",
    "n_points = BA[0][2]\n",
    "n_points"
   ]
  },
  {
   "cell_type": "code",
   "execution_count": null,
   "metadata": {},
   "outputs": [],
   "source": [
    "fs = 30\n",
    "ms = 10\n",
    "lw = 1\n",
    "import itertools\n",
    "sel = [list(range(4)),[5],[9],[15]]\n",
    "merged = list(itertools.chain.from_iterable(sel))\n",
    "nps = [n_points[x] for x in merged]"
   ]
  },
  {
   "cell_type": "code",
   "execution_count": null,
   "metadata": {},
   "outputs": [],
   "source": [
    "fig = plt.figure(figsize=(10,5))\n",
    "for i in range(4):\n",
    "    plt.errorbar(n_points,BA[i][0],\n",
    "                 yerr=BA[i][1],\n",
    "                 fmt='-k',\n",
    "                 linewidth=lw,\n",
    "                 markersize=ms)\n",
    "    \n",
    "plt.ylabel('ID',fontsize=fs)\n",
    "plt.yticks(fontsize=fs)\n",
    "plt.xticks(nps, nps, rotation=90, fontsize=fs)\n",
    "plt.xlabel('n. of points',fontsize=fs)"
   ]
  }
 ],
 "metadata": {
  "kernelspec": {
   "display_name": "PyTorch",
   "language": "python",
   "name": "pytorch"
  },
  "language_info": {
   "codemirror_mode": {
    "name": "ipython",
    "version": 3
   },
   "file_extension": ".py",
   "mimetype": "text/x-python",
   "name": "python",
   "nbconvert_exporter": "python",
   "pygments_lexer": "ipython3",
   "version": "3.6.7"
  }
 },
 "nbformat": 4,
 "nbformat_minor": 2
}
