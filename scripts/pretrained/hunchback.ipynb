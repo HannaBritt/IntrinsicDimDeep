{
 "cells": [
  {
   "cell_type": "code",
   "execution_count": null,
   "metadata": {},
   "outputs": [],
   "source": [
    "%reload_ext autoreload\n",
    "%autoreload 2\n",
    "%matplotlib inline"
   ]
  },
  {
   "cell_type": "code",
   "execution_count": null,
   "metadata": {},
   "outputs": [],
   "source": [
    "from __future__ import print_function, division\n",
    "import numpy as np\n",
    "import os\n",
    "import os.path as path\n",
    "from os import listdir \n",
    "from os.path import isfile, join\n",
    "import copy\n",
    "import matplotlib.pyplot as plt\n",
    "plt.style.use('classic')"
   ]
  },
  {
   "cell_type": "code",
   "execution_count": null,
   "metadata": {},
   "outputs": [],
   "source": [
    "# path\n",
    "cwd = os.getcwd()\n",
    "parts = cwd.split('/scripts/pretrained')\n",
    "ROOT = parts[0]\n",
    "os.chdir(ROOT)\n",
    "import sys\n",
    "sys.path.insert(0, ROOT)"
   ]
  },
  {
   "cell_type": "code",
   "execution_count": null,
   "metadata": {},
   "outputs": [],
   "source": [
    "category_codes = ['n01882714','n02086240','n02087394','n02094433','n02100583','n02100735','n02279972', 'mix']\n",
    "category_names = ['koalas',   'shih-tzu', 'rhodesian','yorkshire','vizsla',   'setter',   'butterfly', 'mix']"
   ]
  },
  {
   "cell_type": "code",
   "execution_count": null,
   "metadata": {},
   "outputs": [],
   "source": [
    "results_folder = join(ROOT, 'data', 'pretrained', 'results', 'hunchback_trained')\n",
    "\n",
    "archs = ['alexnet','vgg11', 'vgg13', 'vgg16','vgg19',\n",
    "        'vgg11_bn','vgg13_bn', 'vgg16_bn', 'vgg19_bn',\n",
    "         'resnet18', 'resnet34', 'resnet50','resnet101','resnet152'\n",
    "        ]"
   ]
  },
  {
   "cell_type": "code",
   "execution_count": null,
   "metadata": {},
   "outputs": [],
   "source": [
    "ID = {}\n",
    "for arch in archs:\n",
    "    ID[arch] = np.load(join(results_folder, arch + '_ID.npy')) \n",
    "    \n",
    "IDerr = {}\n",
    "for arch in archs:\n",
    "    IDerr[arch] = np.load(join(results_folder, arch + '_IDerr.npy'))  \n",
    "    \n",
    "PCA_DIM = {}\n",
    "for arch in archs:\n",
    "    PCA_DIM[arch] = np.load(join(results_folder, arch + '_PCA_DIM.npy'))  \n",
    "    \n",
    "EVR = {}\n",
    "for arch in archs:\n",
    "    EVR[arch] = np.load(join(results_folder, arch + '_EVR.npy'))  \n",
    "    \n",
    "SV = {}\n",
    "for arch in archs:\n",
    "    SV[arch] = np.load(join(results_folder, arch + '_SV.npy'))  \n",
    "    \n",
    "Depths = {}\n",
    "for arch in archs:\n",
    "    Depths[arch] = np.load(join(results_folder, arch + '_depths.npy'))  \n",
    "    \n",
    "Embdims = {}\n",
    "for arch in archs:\n",
    "    Embdims[arch] = np.load(join(results_folder, arch + '_embdims.npy'))  "
   ]
  },
  {
   "cell_type": "code",
   "execution_count": null,
   "metadata": {},
   "outputs": [],
   "source": [
    "def get_color(arch):\n",
    "    #print(arch)\n",
    "    if 'alex' in arch:\n",
    "        color = 'r'\n",
    "    if 'vgg' in arch:\n",
    "        color = 'b'\n",
    "    if 'bn' in arch:\n",
    "        color = 'k'\n",
    "    if 'res' in arch:\n",
    "        color = 'g'\n",
    "    if 'dense' in arch:\n",
    "        color = 'm'\n",
    "    if 'squeeze' in arch:\n",
    "        color = 'y'\n",
    "    return color   \n",
    "\n",
    "def get_sym_arch(arch):\n",
    "    #print(arch)\n",
    "    if 'alex' in arch:\n",
    "        sym_arch = 'o'\n",
    "    if 'vgg' in arch:\n",
    "        sym_arch = 'o'\n",
    "    if 'bn' in arch:\n",
    "        sym_arch = 'p'\n",
    "    if 'res' in arch:\n",
    "        sym_arch = 's'\n",
    "    if 'dense' in arch:\n",
    "        sym_arch = 'H'\n",
    "    if 'squeeze' in arch:\n",
    "        sym_arch = '1'\n",
    "    return sym_arch   "
   ]
  },
  {
   "cell_type": "code",
   "execution_count": null,
   "metadata": {},
   "outputs": [],
   "source": [
    "lw = 2\n",
    "alpha=0.6\n",
    "ms = 10\n",
    "fs = 20\n",
    "\n",
    "fig=plt.figure(figsize=(10,10))\n",
    "for i,arch in enumerate(['alexnet','vgg16','resnet34','resnet18']):\n",
    "    nlayers = ID[arch].shape[1]\n",
    "    rdepths = Depths[arch]/Depths[arch][-1]\n",
    "        \n",
    "    plt.plot(Depths[arch], np.mean(ID[arch][0:-1,:],0), '-o'+get_color(arch), \n",
    "             markersize=ms, alpha=alpha, linewidth=lw, label=arch)\n",
    "    \n",
    "    plt.errorbar(Depths[arch], np.mean(ID[arch][0:-1,:],0), yerr=np.std(ID[arch][0:-1,:],0), \n",
    "                 fmt='-'+get_color(arch), alpha=alpha, linewidth=lw)\n",
    "    \n",
    "plt.ylabel('ID',fontsize=fs)\n",
    "plt.xlabel('layer depth',fontsize=fs)\n",
    "plt.xlim(-5,40)\n",
    "plt.xticks(np.arange(0,8)*5,fontsize=fs)\n",
    "plt.yticks(fontsize=fs)\n",
    "\n",
    "plt.legend(fontsize=fs)\n",
    "\n",
    "fname = 'Fig3A'\n",
    "plt.savefig(join(results_folder, fname + '.png') )\n",
    "plt.show()"
   ]
  },
  {
   "cell_type": "code",
   "execution_count": null,
   "metadata": {},
   "outputs": [],
   "source": [
    "ms = 10\n",
    "msexp = [1,\n",
    "         1,1.1,1.2,1.3,\n",
    "         1,1.1,1.2,1.3,\n",
    "         1,1.1,1.2,1.3,1.4]"
   ]
  },
  {
   "cell_type": "code",
   "execution_count": null,
   "metadata": {},
   "outputs": [],
   "source": [
    "lw = 1\n",
    "alpha=0.4\n",
    "ms = 10\n",
    "fs =20\n",
    "\n",
    "fig=plt.figure(figsize=(10,10))\n",
    "for i,arch in enumerate(archs):\n",
    "    nlayers = ID[arch].shape[1]\n",
    "    rdepths = Depths[arch]/Depths[arch][-1]\n",
    "    \n",
    "    plt.plot(rdepths, np.mean(ID[arch][0:-1,:],0), '-o'+get_color(arch), \n",
    "             markersize=ms*msexp[i], alpha=alpha, linewidth=lw, label=arch)\n",
    "    \n",
    "plt.xlabel('layer relative depth',fontsize=fs)\n",
    "plt.ylabel('ID',fontsize=fs)\n",
    " \n",
    "plt.xlim(-0.1,1.1)\n",
    "plt.ylim([0,160])\n",
    "plt.legend(fontsize=12)\n",
    "\n",
    "plt.xticks(fontsize=fs)\n",
    "plt.yticks(fontsize=fs)\n",
    "\n",
    "fname = 'Fig3B'\n",
    "plt.savefig(join(results_folder, fname + '.png') )\n",
    "plt.show()"
   ]
  }
 ],
 "metadata": {
  "kernelspec": {
   "display_name": "PyTorch",
   "language": "python",
   "name": "pytorch"
  },
  "language_info": {
   "codemirror_mode": {
    "name": "ipython",
    "version": 3
   },
   "file_extension": ".py",
   "mimetype": "text/x-python",
   "name": "python",
   "nbconvert_exporter": "python",
   "pygments_lexer": "ipython3",
   "version": "3.6.7"
  }
 },
 "nbformat": 4,
 "nbformat_minor": 2
}
