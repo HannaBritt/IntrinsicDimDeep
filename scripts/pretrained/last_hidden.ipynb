{
 "cells": [
  {
   "cell_type": "code",
   "execution_count": 14,
   "metadata": {},
   "outputs": [],
   "source": [
    "%reload_ext autoreload\n",
    "%autoreload 2\n",
    "%matplotlib inline"
   ]
  },
  {
   "cell_type": "code",
   "execution_count": 15,
   "metadata": {},
   "outputs": [],
   "source": [
    "from __future__ import print_function, division\n",
    "import torch\n",
    "import torch.nn as nn\n",
    "import torch.optim as optim\n",
    "from torch.optim import lr_scheduler\n",
    "from torch.autograd import Variable\n",
    "import numpy as np\n",
    "import torchvision\n",
    "from torchvision import datasets, models, transforms\n",
    "import matplotlib.pyplot as plt\n",
    "plt.style.use('classic')\n",
    "import time\n",
    "from collections import namedtuple\n",
    "\n",
    "import os\n",
    "import os.path as path\n",
    "from os import listdir \n",
    "from os.path import isfile, join\n",
    "import copy\n",
    "import pickle\n",
    "from tqdm import tqdm\n",
    "from torchsummary import summary"
   ]
  },
  {
   "cell_type": "code",
   "execution_count": 16,
   "metadata": {},
   "outputs": [],
   "source": [
    "import os\n",
    "from os.path import join\n",
    "\n",
    "# path\n",
    "cwd = os.getcwd()\n",
    "parts = cwd.split('/scripts/pretrained')\n",
    "ROOT = parts[0]\n",
    "os.chdir(ROOT)\n",
    "import sys\n",
    "sys.path.insert(0, ROOT)"
   ]
  },
  {
   "cell_type": "code",
   "execution_count": 17,
   "metadata": {},
   "outputs": [],
   "source": [
    "from IDNN.intrinsic_dimension import estimate, block_analysis"
   ]
  },
  {
   "cell_type": "code",
   "execution_count": 18,
   "metadata": {},
   "outputs": [],
   "source": [
    "narchs = 14\n",
    "EXPERIMENT ='last_hidden'"
   ]
  },
  {
   "cell_type": "code",
   "execution_count": 19,
   "metadata": {},
   "outputs": [],
   "source": [
    "results_folder = join(ROOT, 'data', 'pretrained', 'results_provided', EXPERIMENT)\n",
    "\n",
    "# uncomment this line if you want to check your own results\n",
    "#results_folder = join(ROOT, 'data', 'pretrained', 'results', EXPERIMENT)"
   ]
  },
  {
   "cell_type": "code",
   "execution_count": 20,
   "metadata": {},
   "outputs": [],
   "source": [
    "archs = ['alexnet', 'vgg11', 'vgg13', 'vgg16','vgg19',\n",
    "                    'vgg11_bn', 'vgg13_bn', 'vgg16_bn','vgg19_bn',\n",
    "                    'resnet18', 'resnet34', 'resnet50', 'resnet101', 'resnet152']\n",
    "\n",
    "perfs_top5 = [20.91, 11.37, 10.75, 9.62, 9.12,\n",
    "                10.19,  9.63, 8.50, 8.15,\n",
    "                10.92,  8.58, 7.13, 6.44, 5.94]              "
   ]
  },
  {
   "cell_type": "code",
   "execution_count": 21,
   "metadata": {},
   "outputs": [],
   "source": [
    "D = dict(zip(archs,perfs_top5))"
   ]
  },
  {
   "cell_type": "code",
   "execution_count": 24,
   "metadata": {},
   "outputs": [
    {
     "name": "stderr",
     "output_type": "stream",
     "text": [
      "100%|██████████| 14/14 [00:00<00:00, 2910.26it/s]\n"
     ]
    }
   ],
   "source": [
    "# variability of ID estimates, these numbers must be consistent with the one in the script last_hidden.sh\n",
    "divs = 2\n",
    "reps=  2\n",
    "\n",
    "ID = []\n",
    "for arch in tqdm(archs[:narchs]):   \n",
    "    Id = np.load(join(results_folder, arch + '.npy'))\n",
    "    means = [np.mean(Id[i,:,0]) for i in range(divs)]\n",
    "    ID.append( (np.mean(means), np.std(means) ) )  \n",
    "ID = np.asarray(ID)"
   ]
  },
  {
   "cell_type": "code",
   "execution_count": 25,
   "metadata": {},
   "outputs": [],
   "source": [
    "def get_color(arch):\n",
    "    if 'alex' in arch:\n",
    "        color = 'r'\n",
    "    if 'vgg' in arch:\n",
    "        color = 'b'\n",
    "    if 'bn' in arch:\n",
    "        color = 'k'\n",
    "    if 'res' in arch:\n",
    "        color = 'g'\n",
    "    if 'dense' in arch:\n",
    "        color = 'm'\n",
    "    if 'squeeze' in arch:\n",
    "        color = 'y'\n",
    "    return color   "
   ]
  },
  {
   "cell_type": "code",
   "execution_count": 26,
   "metadata": {},
   "outputs": [],
   "source": [
    "def get_tag_arch(arch):\n",
    "    if 'alex' in arch:\n",
    "        tag_arch = ''\n",
    "    if 'vgg' in arch:\n",
    "        parts = arch.split('vgg')\n",
    "        tag_arch = parts[1]\n",
    "    if 'bn' in arch:\n",
    "        parts = arch.split('vgg')\n",
    "        a = parts[1]\n",
    "        parts = a.split('_')\n",
    "        tag_arch = parts[0]\n",
    "    if 'res' in arch:\n",
    "        parts = arch.split('resnet')\n",
    "        tag_arch = parts[1]\n",
    "    if 'dense' in arch:\n",
    "        parts = arch.split('densenet')\n",
    "        tag_arch = parts[1]\n",
    "    if 'squeeze' in arch:\n",
    "        parts = arch.split('squeeze')\n",
    "        tag_arch = parts[1]\n",
    "    return tag_arch   \n",
    "\n",
    "def get_sym_arch(arch):\n",
    "    #print(arch)\n",
    "    if 'alex' in arch:\n",
    "        sym_arch = 'o'\n",
    "    if 'vgg' in arch:\n",
    "        sym_arch = 'o'\n",
    "    if 'bn' in arch:\n",
    "        sym_arch = 'p'\n",
    "    if 'res' in arch:\n",
    "        sym_arch = 's'\n",
    "    if 'dense' in arch:\n",
    "        sym_arch = 'H'\n",
    "    if 'squeeze' in arch:\n",
    "        sym_arch = '1'\n",
    "    return sym_arch   "
   ]
  },
  {
   "cell_type": "code",
   "execution_count": 27,
   "metadata": {},
   "outputs": [],
   "source": [
    "ms3 = 10\n",
    "msexp = [1,\n",
    "         1,1.1,1.2,1.3,\n",
    "         1,1.1,1.2,1.3,\n",
    "         1,1.1,1.2,1.3,1.4]"
   ]
  },
  {
   "cell_type": "code",
   "execution_count": 28,
   "metadata": {},
   "outputs": [
    {
     "data": {
      "image/png": "[encoded data removed]",
      "text/plain": [
       "<Figure size 800x800 with 1 Axes>"
      ]
     },
     "metadata": {},
     "output_type": "display_data"
    }
   ],
   "source": [
    "perfs = perfs_top5\n",
    "\n",
    "plt.style.use('classic')\n",
    "\n",
    "alpha = 0.4\n",
    "alpha2=0.8\n",
    "\n",
    "if OUT_SHAPES:\n",
    "    ms = 0.2\n",
    "else:\n",
    "    ms = 15\n",
    "ms2 = 15\n",
    "\n",
    "fs = 20\n",
    "fs2 = 15\n",
    "fs3 = 10\n",
    "lw = 2\n",
    "\n",
    "fig = plt.figure(figsize=(10,10))\n",
    "for i,arch in enumerate(archs[:14]):\n",
    "    if OUT_SHAPES:\n",
    "        plt.plot(perfs[i], ID[i,0], get_color(arch) + get_sym_arch(arch), markersize=ms*np.log2(out_shapes[i])**2, alpha=alpha)\n",
    "    \n",
    "    plt.plot(perfs[i], ID[i,0], get_color(arch) + 'o', markersize=ms3*msexp[i],\n",
    "             alpha=0.6)\n",
    "      \n",
    "    plt.errorbar(perfs[i], ID[i,0], yerr=ID[i,1], fmt= get_color(arch) + '-', linewidth=lw, alpha=alpha)\n",
    "    \n",
    "plt.yticks(fontsize=fs)    \n",
    "plt.xticks(fontsize=fs)\n",
    "\n",
    "offset = 0\n",
    "plt.plot(15, offset + 20,'ro',markersize=ms2, alpha=alpha)\n",
    "plt.plot(15, offset + 19,'gs',markersize=ms2, alpha=alpha)\n",
    "plt.plot(15, offset + 18,'bo',markersize=ms2, alpha=alpha)\n",
    "plt.plot(15, offset + 17,'kp',markersize=ms2, alpha=alpha)\n",
    "\n",
    "plt.text(15 + 0.5, offset + 20 - 0.1,'AlexNet',fontsize=fs)\n",
    "plt.text(15 + 0.5, offset + 19 - 0.1,'ResNets',fontsize=fs)\n",
    "plt.text(15 + 0.5, offset + 18 - 0.1,'VGGNets',fontsize=fs)\n",
    "plt.text(15 + 0.5, offset + 17 - 0.1,'VGGNets + BatchNorm',fontsize=fs)\n",
    "\n",
    "plt.xlabel('top 5 error (%)', fontsize=fs)\n",
    "plt.savefig(join(results_folder, 'last_hidden.png'))\n",
    "\n",
    "plt.show()"
   ]
  }
 ],
 "metadata": {
  "kernelspec": {
   "display_name": "PyTorch",
   "language": "python",
   "name": "pytorch"
  },
  "language_info": {
   "codemirror_mode": {
    "name": "ipython",
    "version": 3
   },
   "file_extension": ".py",
   "mimetype": "text/x-python",
   "name": "python",
   "nbconvert_exporter": "python",
   "pygments_lexer": "ipython3",
   "version": "3.6.7"
  }
 },
 "nbformat": 4,
 "nbformat_minor": 2
}
