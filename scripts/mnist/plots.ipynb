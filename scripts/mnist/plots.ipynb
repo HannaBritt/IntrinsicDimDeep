{
 "cells": [
  {
   "cell_type": "code",
   "execution_count": 16,
   "metadata": {},
   "outputs": [],
   "source": [
    "%reload_ext autoreload\n",
    "%autoreload 2\n",
    "%matplotlib inline"
   ]
  },
  {
   "cell_type": "code",
   "execution_count": 15,
   "metadata": {},
   "outputs": [],
   "source": [
    "# path\n",
    "import os\n",
    "from os.path import join\n",
    "cwd = os.getcwd()\n",
    "parts = cwd.split('/scripts/mnist')\n",
    "ROOT = parts[0]\n",
    "os.chdir(ROOT)\n",
    "import sys\n",
    "sys.path.insert(0, ROOT)"
   ]
  },
  {
   "cell_type": "code",
   "execution_count": null,
   "metadata": {},
   "outputs": [],
   "source": [
    "from matplotlib import pyplot as plt"
   ]
  },
  {
   "cell_type": "code",
   "execution_count": null,
   "metadata": {},
   "outputs": [],
   "source": [
    "train=False\n",
    "#train=True uncomment if you want to check the result on the training sample"
   ]
  },
  {
   "cell_type": "code",
   "execution_count": null,
   "metadata": {},
   "outputs": [],
   "source": [
    "layers_all = ['input','conv1','pool1','conv2','pool2','d1','output']\n",
    "\n",
    "if train:\n",
    "    ID_orig = np.load(join(ROOT,'data','mnist','results','ID_all_training.npy'))\n",
    "    ID_shuf = np.load(join(ROOT,'data','mnist_shuffled','results','ID_all_training.npy'))\n",
    "    ID_grad = np.load(join(ROOT,'data','mnist_grad','results','ID_all_training.npy'))\n",
    "else:\n",
    "    ID_orig = np.load(join(ROOT,'data','mnist','results','ID_all_test.npy'))\n",
    "    ID_shuf = np.load(join(ROOT,'data','mnist_shuffled','results','ID_all_test.npy'))\n",
    "    ID_grad = np.load(join(ROOT,'data','mnist_grad','results','ID_all_test.npy'))"
   ]
  },
  {
   "cell_type": "code",
   "execution_count": 15,
   "metadata": {},
   "outputs": [],
   "source": [
    "# save in results for mnist\n",
    "RES  = join(ROOT,'data', 'mnist', 'results')\n",
    "figs_folder = join(RES, 'figs')\n",
    "if not os.path.isdir(figs_folder):\n",
    "    os.mkdir(figs_folder)"
   ]
  }
 ],
 "metadata": {
  "kernelspec": {
   "display_name": "PyTorch",
   "language": "python",
   "name": "pytorch"
  },
  "language_info": {
   "codemirror_mode": {
    "name": "ipython",
    "version": 3
   },
   "file_extension": ".py",
   "mimetype": "text/x-python",
   "name": "python",
   "nbconvert_exporter": "python",
   "pygments_lexer": "ipython3",
   "version": "3.6.7"
  }
 },
 "nbformat": 4,
 "nbformat_minor": 2
}
