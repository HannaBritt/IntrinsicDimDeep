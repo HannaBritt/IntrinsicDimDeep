{
 "cells": [
  {
   "cell_type": "code",
   "execution_count": null,
   "metadata": {},
   "outputs": [],
   "source": [
    "%reload_ext autoreload\n",
    "%autoreload 2\n",
    "%matplotlib inline"
   ]
  },
  {
   "cell_type": "code",
   "execution_count": null,
   "metadata": {},
   "outputs": [],
   "source": [
    "# path\n",
    "import os\n",
    "from os.path import join\n",
    "cwd = os.getcwd()\n",
    "parts = cwd.split('/scripts/mnist')\n",
    "ROOT = parts[0]\n",
    "os.chdir(ROOT)\n",
    "import sys\n",
    "sys.path.insert(0, ROOT)\n",
    "\n",
    "RES  = join(ROOT,'data', 'mnist_shuffled', 'results')\n",
    "figs_folder = join(RES, 'figs')\n",
    "if not os.path.isdir(figs_folder):\n",
    "    os.mkdir(figs_folder)"
   ]
  },
  {
   "cell_type": "code",
   "execution_count": null,
   "metadata": {},
   "outputs": [],
   "source": [
    "import pickle\n",
    "from time import time\n",
    "import torch\n",
    "import numpy as np\n",
    "np.seed = 1101\n",
    "from matplotlib import pyplot as plt"
   ]
  },
  {
   "cell_type": "markdown",
   "metadata": {},
   "source": [
    "# Training"
   ]
  },
  {
   "cell_type": "code",
   "execution_count": null,
   "metadata": {},
   "outputs": [],
   "source": [
    "file = open(join(RES, 'training_data'), 'rb')\n",
    "T = pickle.load(file)\n",
    "train_loss = np.array(T['train_loss'])\n",
    "test_loss = np.array(T['test_loss'])\n",
    "test_acc = np.array(T['test_acc'])\n",
    "train_acc = np.array(T['train_acc'])"
   ]
  },
  {
   "cell_type": "code",
   "execution_count": null,
   "metadata": {},
   "outputs": [],
   "source": [
    "test_acc[-1]"
   ]
  },
  {
   "cell_type": "code",
   "execution_count": null,
   "metadata": {},
   "outputs": [],
   "source": [
    "plt.figure(figsize=(10,5))\n",
    "plt.subplot(1,2,1)\n",
    "plt.plot(train_loss,'-', label='train')\n",
    "plt.plot(test_loss,'-', label='test')\n",
    "plt.xlabel('epoch')\n",
    "plt.ylabel('loss')\n",
    "plt.legend()\n",
    "plt.title('loss')\n",
    "plt.subplot(1,2,2)\n",
    "plt.plot(train_acc,'-', label='train')\n",
    "plt.plot(test_acc,'-', label='test')\n",
    "plt.xlabel('epoch')\n",
    "plt.ylabel('accuracy (% correct)')\n",
    "plt.legend()\n",
    "plt.title('accuracy')\n",
    "plt.savefig(join(RES, 'figs', 'training_data.png') )"
   ]
  },
  {
   "cell_type": "markdown",
   "metadata": {},
   "source": [
    "# Intrinsic Dimension"
   ]
  },
  {
   "cell_type": "code",
   "execution_count": null,
   "metadata": {},
   "outputs": [],
   "source": [
    "layers_all = ['input','conv1','pool1','conv2','pool2','d1','output']\n",
    "ID_orig = np.load(join(ROOT,'data','mnist','results','ID_all.npy'))\n",
    "ID_shuf = np.load(join(ROOT,'data','mnist_shuffled','results','ID_all.npy'))\n",
    "ID_grad = np.load(join(ROOT,'data','mnist_grad','results','ID_all.npy'))"
   ]
  },
  {
   "cell_type": "code",
   "execution_count": null,
   "metadata": {},
   "outputs": [],
   "source": [
    "fig=plt.figure(figsize=(10,10))\n",
    "plt.errorbar(range(7),ID_orig[:,0],yerr=ID_orig[:,1],fmt='-ko')\n",
    "plt.errorbar(range(7),ID_shuf[:,0],yerr=ID_shuf[:,1],fmt='-ro')\n",
    "plt.errorbar(range(7),ID_grad[:,0],yerr=ID_grad[:,1],fmt='-bo')\n",
    "plt.xticks(range(7),layers_all,rotation=90)\n",
    "\n",
    "\n",
    "plt.savefig(join(RES, 'figs', 'all_mnists.svg'))\n",
    "plt.savefig(join(RES, 'figs', 'all_mnists.png'))\n",
    "plt.savefig(join(RES, 'figs', 'all_mnists.eps'))\n",
    "\n",
    "plt.show()"
   ]
  },
  {
   "cell_type": "code",
   "execution_count": null,
   "metadata": {},
   "outputs": [],
   "source": [
    "idx = [0,2,4,5,6]\n",
    "layers_selection = ['input','pool1','pool2','d1','output']"
   ]
  },
  {
   "cell_type": "code",
   "execution_count": null,
   "metadata": {},
   "outputs": [],
   "source": [
    "ID_orig"
   ]
  },
  {
   "cell_type": "code",
   "execution_count": null,
   "metadata": {},
   "outputs": [],
   "source": [
    "fs = 30\n",
    "ms = 20\n",
    "lw = 2\n",
    "\n",
    "\n",
    "fig = plt.figure(figsize=(10,10))\n",
    "plt.errorbar(range(5), ID_orig[idx,0], yerr=ID_orig[idx,1], fmt='-ko',label='ID', \n",
    "             linewidth=lw,markersize=ms)\n",
    "     \n",
    "plt.xticks(range(len(layers_selection)), layers_selection, rotation='vertical',fontsize=fs )\n",
    "plt.yticks(fontsize=fs)\n",
    "plt.xlabel('layers',fontsize=fs)\n",
    "plt.ylabel('ID',fontsize=fs)\n",
    "plt.legend(fontsize=fs)\n",
    "\n",
    "plt.savefig(join(RES, 'figs', 'id_layers.svg'))\n",
    "plt.savefig(join(RES, 'figs', 'id_layers.png'))\n",
    "plt.savefig(join(RES, 'figs', 'id_layers.eps'))"
   ]
  },
  {
   "cell_type": "markdown",
   "metadata": {},
   "source": [
    "### Block Analysis"
   ]
  },
  {
   "cell_type": "code",
   "execution_count": null,
   "metadata": {},
   "outputs": [],
   "source": [
    "BA = np.load(join(ROOT,'data','mnist','results','BA.npy'))\n",
    "n_points = BA[0][2]"
   ]
  },
  {
   "cell_type": "code",
   "execution_count": null,
   "metadata": {},
   "outputs": [],
   "source": [
    "fs = 30\n",
    "ms = 10\n",
    "lw = 1\n",
    "import itertools\n",
    "sel = [list(range(4)),[5],[9],[15]]\n",
    "merged = list(itertools.chain.from_iterable(sel))\n",
    "nps = [n_points[x] for x in merged]"
   ]
  },
  {
   "cell_type": "code",
   "execution_count": null,
   "metadata": {},
   "outputs": [],
   "source": [
    "fig = plt.figure(figsize=(10,5))\n",
    "for i in range(4):\n",
    "    plt.errorbar(n_points,BA[i][0],\n",
    "                 yerr=BA[i][1],\n",
    "                 fmt='-k',\n",
    "                 #label=layers[i + 1],\n",
    "                 linewidth=lw,\n",
    "                 markersize=ms)\n",
    "\n",
    "#for i in range(4):\n",
    "#    plt.text(1500,BA[i][0][0],layers[i+1],fontsize=fs)\n",
    "    \n",
    "#plt.title('Block analysis')\n",
    "plt.ylabel('ID',fontsize=fs)\n",
    "plt.yticks(fontsize=fs)\n",
    "plt.xticks(nps, nps, rotation=90, fontsize=fs)\n",
    "plt.xlabel('n. of points',fontsize=fs)\n",
    "\n",
    "plt.savefig(join(RES, 'figs', 'ba.svg'))\n",
    "plt.savefig(join(RES, 'figs', 'ba.png'))\n",
    "plt.savefig(join(RES, 'figs', 'ba.eps'))"
   ]
  }
 ],
 "metadata": {
  "kernelspec": {
   "display_name": "PyTorch",
   "language": "python",
   "name": "pytorch"
  },
  "language_info": {
   "codemirror_mode": {
    "name": "ipython",
    "version": 3
   },
   "file_extension": ".py",
   "mimetype": "text/x-python",
   "name": "python",
   "nbconvert_exporter": "python",
   "pygments_lexer": "ipython3",
   "version": "3.6.7"
  }
 },
 "nbformat": 4,
 "nbformat_minor": 2
}
